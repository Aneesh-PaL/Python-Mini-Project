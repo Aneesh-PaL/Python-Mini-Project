{
 "cells": [
  {
   "cell_type": "markdown",
   "id": "5a5de7ca",
   "metadata": {},
   "source": [
    "# [1]  Converting JPEG image format to PNG image format"
   ]
  },
  {
   "cell_type": "markdown",
   "id": "e932bb70",
   "metadata": {},
   "source": [
    "In this project we are going to convert the jpg image format to png image format using GUI.\n",
    "\n",
    "To proceed with the project we will need to install two main libraries with command :\n",
    "1. Tkinter module - pip install tk\n",
    "2. PIL library - pip install pillow"
   ]
  },
  {
   "cell_type": "markdown",
   "id": "4f4a818b",
   "metadata": {},
   "source": [
    "Now lets look at each step in detail :\n",
    "\n",
    "**[1] Importing Libraries and Modules:**\n",
    "\n",
    "**Tkinter Module** – This module helps in creating the GUI Window for our project. Filedialog will help us to browse files from the system and save them.\n",
    "\n",
    "**PIL Library** – PIL stands for Python Image Library. In this project this library will help us change the extension of the image and save it with a new extension.\n",
    "\n",
    "**[2] Browsing an Image File from the System:**\n",
    "\n",
    "**fd.askopenfilename()** – This function opens up a window from which we can select a file that needs to be changed. We select the value and save it in a variable named filename.\n",
    "\n",
    "**open()** – Using the open() function, we will be opening the image file selected. We will pass variable filename to the open() method because the value of the selected image file is stored in this variable.\n",
    "\n",
    "**[3] Converting from JPG to PNG:**\n",
    "\n",
    "**save()** – Using the save function, we save the image at the chosen path with the extension .png\n",
    "\n",
    "**[4] Creating the GUI Window:**\n",
    "\n",
    "**Tk()** – Using the Tk() method, we have created a window named root.\n",
    "\n",
    "**geometry()** – This function specifies the size of the window.\n",
    "\n",
    "**title()** – gives a title to the created window.\n",
    "\n",
    "**Label()** – Label is a Gui widget that is generally for displaying a piece of text on the window. This creates a label on the GUI window of the project. We can change the color, font , size, height, width etc of a label. Here we have used this Label() function to display a text.\n",
    "\n",
    "**place()** – place() function helps in displaying the widgets on the window. Using the place() function we can specify the x and y coordinates of a widget and place it accordingly.\n",
    "\n",
    "**Button()** – This helps in creating a button on the window. command=browse specifies that whenever this button is triggered the browse function will be evoked. Same as the label, here also we can specify the color, font, background color, foreground color etc of a button\n",
    "\n",
    "**[5] The mainloop() function helps in displaying the GUI window when the project is run**"
   ]
  },
  {
   "cell_type": "code",
   "execution_count": 3,
   "id": "be2782b2",
   "metadata": {},
   "outputs": [
    {
     "name": "stdout",
     "output_type": "stream",
     "text": [
      "Collecting tk\n",
      "  Downloading tk-0.1.0-py3-none-any.whl (3.9 kB)\n",
      "Installing collected packages: tk\n",
      "Successfully installed tk-0.1.0\n",
      "Requirement already satisfied: pillow in c:\\users\\anees\\anaconda3\\lib\\site-packages (8.2.0)\n"
     ]
    }
   ],
   "source": [
    "# installing prerequisite Python libraries\n",
    "\n",
    "!pip install tk        # tkinter is used for GUI interface\n",
    "!pip install pillow    # Pillow is used for converting different image formats"
   ]
  },
  {
   "cell_type": "code",
   "execution_count": 30,
   "id": "97791d1c",
   "metadata": {},
   "outputs": [],
   "source": [
    "# importing all prerequisite libraries and modules\n",
    "from tkinter import *\n",
    "from tkinter import filedialog as fd\n",
    "import os\n",
    "from PIL import Image\n",
    "from tkinter import messagebox\n",
    "\n",
    "root = Tk()\n",
    "\n",
    "# naming the GUI interface to JPEG to PNG Converter\n",
    "root.title(\"JPEG to PNG Converter\")\n",
    "\n",
    "# creating the Function which converts the jpg_to_png\n",
    "def jpg_to_png():\n",
    "    global im1\n",
    "    \n",
    "    # import the image from the folder\n",
    "    import_filename = fd.askopenfilename()\n",
    "    if import_filename.endswith(\".jpg\"):\n",
    "        \n",
    "        im1 = Image.open(import_filename) \n",
    "        # after converting the image save to desired location with the extension .png\n",
    "        export_filename = fd.asksaveasfilename(defaultextension=\".png\")\n",
    "        im1.save(export_filename)\n",
    "\n",
    "        # displaying the Messaging box with the Success\n",
    "        messagebox.showinfo(\"success \", \"your Image converted to Png\")\n",
    "   \n",
    "    else:\n",
    "        # if selected image is not with the Format of .jpg then display the Error\n",
    "        Label_2 = Label(root, text=\"Error!\", width=20, fg=\"red\", font=(\"bold\", 15))\n",
    "        Label_2.place(x=80, y=280)\n",
    "        messagebox.showerror(\"Fail!!\", \"Something Went Wrong...\")\n",
    "        \n",
    "\n",
    "button1 = Button(root, text=\"JPEG_to_PNG\", width=20, height=2, bg=\"green\", \n",
    "                 fg=\"yellow\", font=(\"helvetica\", 14, \"bold\"), command=jpg_to_png)\n",
    "button1.place(x=130, y=200)\n",
    "\n",
    "root.geometry(\"500x500+400+200\")\n",
    "root.mainloop()        "
   ]
  },
  {
   "cell_type": "markdown",
   "id": "cb3f9d39",
   "metadata": {},
   "source": [
    "# [2] Converting PNG image format to ICO image format"
   ]
  },
  {
   "cell_type": "markdown",
   "id": "fad2e49c",
   "metadata": {},
   "source": [
    "In this project we are going to convert the png image format to ico image format (icon) using GUI.\n",
    "\n",
    "To proceed with the project we will need to install two main libraries with command :\n",
    "1. Tkinter module - pip install tk\n",
    "2. PIL library - pip install pillow"
   ]
  },
  {
   "cell_type": "markdown",
   "id": "faecccdb",
   "metadata": {},
   "source": [
    "Now lets look at each step in detail :\n",
    "\n",
    "**[1] Importing Libraries and Modules:**\n",
    "\n",
    "**Tkinter Module** – This module helps in creating the GUI Window for our project. Filedialog will help us to browse files from the system and save them.\n",
    "\n",
    "**PIL Library** – PIL stands for Python Image Library. In this project this library will help us change the extension of the image and save it with a new extension.\n",
    "\n",
    "**[2] Browsing an Image File from the System:**\n",
    "\n",
    "**fd.askopenfilename()** – This function opens up a window from which we can select a file that needs to be changed. We select the value and save it in a variable named filename.\n",
    "\n",
    "**open()** – Using the open() function, we will be opening the image file selected. We will pass variable filename to the open() method because the value of the selected image file is stored in this variable.\n",
    "\n",
    "**[3] Converting from PNG to ICO:**\n",
    "\n",
    "**save()** – Using the save function, we save the image at the chosen path with the extension .ico\n",
    "\n",
    "**[4] Creating the GUI Window:**\n",
    "\n",
    "**Tk()** – Using the Tk() method, we have created a window named root.\n",
    "\n",
    "**title()** – gives a title to the created window.\n",
    "\n",
    "**Label()** – Label is a Gui widget that is generally for displaying a piece of text on the window. This creates a label on the GUI window of the project. We can change the color, font , size, height, width etc of a label. Here we have used this Label() function to display a text.\n",
    "\n",
    "**place()** – place() function helps in displaying the widgets on the window. Using the place() function we can specify the x and y coordinates of a widget and place it accordingly.\n",
    "\n",
    "**Button()** – This helps in creating a button on the window. command=browse specifies that whenever this button is triggered the browse function will be evoked. Same as the label, here also we can specify the color, font, background color, foreground color etc of a button\n",
    "\n",
    "**[5] The mainloop() function helps in displaying the GUI window when the project is run**"
   ]
  },
  {
   "cell_type": "code",
   "execution_count": 29,
   "id": "52412dfb",
   "metadata": {},
   "outputs": [
    {
     "name": "stdout",
     "output_type": "stream",
     "text": [
      "Requirement already satisfied: tk in c:\\users\\anees\\anaconda3\\lib\\site-packages (0.1.0)\n",
      "Requirement already satisfied: pillow in c:\\users\\anees\\anaconda3\\lib\\site-packages (8.2.0)\n"
     ]
    }
   ],
   "source": [
    "# installing prerequisite Python libraries\n",
    "\n",
    "!pip install tk       # tkinter is used for GUI interface\n",
    "!pip install pillow   # Pillow is used for converting different image formats "
   ]
  },
  {
   "cell_type": "code",
   "execution_count": 32,
   "id": "57a764a8",
   "metadata": {},
   "outputs": [],
   "source": [
    "from tkinter import *\n",
    "import tkinter as tk\n",
    "from tkinter import filedialog as fd\n",
    "import os\n",
    "from PIL import Image\n",
    "from tkinter import messagebox\n",
    "\n",
    "# Initialize Tkinter window\n",
    "root = tk.Tk()\n",
    "\n",
    "# Initialize variable to store image path\n",
    "img = None\n",
    "\n",
    "# Initialize font, background color, foreground color and width for the buttons\n",
    "font = ('helvetica', 12, 'bold')\n",
    "bg = 'blue'\n",
    "fg = 'white'\n",
    "width = 15\n",
    "\n",
    "# Function to get png image location and open it with pillow \n",
    "def getPNG():\n",
    "    global img\n",
    "    import_file_path = tk.filedialog.askopenfilename(filetypes=[(\"PNG File\",'.png')])\n",
    "    img = Image.open(import_file_path)\n",
    "\n",
    "# Function to convert image from png to ico format with pillow and save to user specified location\n",
    "def convertToICO():\n",
    "    global img\n",
    "    if img is None:\n",
    "        tk.messagebox.showerror(\"Error\", \"No File selected\")\n",
    "    else:\n",
    "        export_file_path = tk.filedialog.asksaveasfilename(defaultextension='.ico')\n",
    "        img.save(export_file_path)\n",
    "        tk.messagebox.showinfo(\"Success\", \"File converted and saved\")\n",
    "\n",
    "# Set the window title\n",
    "root.title('PNG to ICO Converter')\n",
    "canvas1 = tk.Canvas(root, width=500, height=350, bg='lightblue')\n",
    "canvas1.pack()\n",
    "\n",
    "# Set the screen title\n",
    "label1 = tk.Label(root, text='PNG to ICO Converter', bg='lightblue')\n",
    "label1.config(font=('helvetica', 20))\n",
    "canvas1.create_window(250, 100, window=label1)\n",
    "\n",
    "# Browse button to browse for image\n",
    "browseButton = tk.Button(text=\"Import PNG File\", command=getPNG, bg=bg, fg=fg, font=font, width=width)\n",
    "canvas1.create_window(250, 150, window=browseButton)\n",
    "\n",
    "# Convert button to convert selected image and save\n",
    "saveAsButton = tk.Button(text='Convert PNG to ICO', command=convertToICO, bg=bg, fg=fg, font=font, width=width)\n",
    "canvas1.create_window(250, 200, window=saveAsButton)\n",
    "\n",
    "root.mainloop()"
   ]
  },
  {
   "cell_type": "code",
   "execution_count": null,
   "id": "4a143945",
   "metadata": {},
   "outputs": [],
   "source": []
  },
  {
   "cell_type": "code",
   "execution_count": null,
   "id": "8b2db29a",
   "metadata": {},
   "outputs": [],
   "source": []
  },
  {
   "cell_type": "code",
   "execution_count": null,
   "id": "377defac",
   "metadata": {},
   "outputs": [],
   "source": []
  },
  {
   "cell_type": "code",
   "execution_count": null,
   "id": "b860e371",
   "metadata": {},
   "outputs": [],
   "source": []
  },
  {
   "cell_type": "code",
   "execution_count": null,
   "id": "ec6ad146",
   "metadata": {},
   "outputs": [],
   "source": []
  },
  {
   "cell_type": "code",
   "execution_count": null,
   "id": "9f563e39",
   "metadata": {},
   "outputs": [],
   "source": []
  }
 ],
 "metadata": {
  "kernelspec": {
   "display_name": "Python 3",
   "language": "python",
   "name": "python3"
  },
  "language_info": {
   "codemirror_mode": {
    "name": "ipython",
    "version": 3
   },
   "file_extension": ".py",
   "mimetype": "text/x-python",
   "name": "python",
   "nbconvert_exporter": "python",
   "pygments_lexer": "ipython3",
   "version": "3.8.8"
  }
 },
 "nbformat": 4,
 "nbformat_minor": 5
}
